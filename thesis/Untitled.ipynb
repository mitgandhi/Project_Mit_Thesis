{
 "cells": [
  {
   "cell_type": "code",
   "execution_count": 3,
   "id": "239e972b-1bc5-4e2c-b809-c636ab64445c",
   "metadata": {},
   "outputs": [
    {
     "name": "stdout",
     "output_type": "stream",
     "text": [
      "Collecting mljar-supervised\n",
      "  Using cached mljar-supervised-1.1.15.tar.gz (127 kB)\n",
      "  Installing build dependencies: started\n",
      "  Installing build dependencies: finished with status 'done'\n",
      "  Getting requirements to build wheel: started\n",
      "  Getting requirements to build wheel: finished with status 'done'\n",
      "  Preparing metadata (pyproject.toml): started\n",
      "  Preparing metadata (pyproject.toml): finished with status 'done'\n",
      "Requirement already satisfied: h2o in g:\\python313\\venv\\lib\\site-packages (3.46.0.6)\n",
      "Collecting pycaret\n",
      "  Using cached pycaret-3.3.2-py3-none-any.whl.metadata (17 kB)\n",
      "Requirement already satisfied: pandas in g:\\python313\\venv\\lib\\site-packages (2.2.3)\n",
      "Requirement already satisfied: seaborn in g:\\python313\\venv\\lib\\site-packages (0.13.2)\n",
      "Requirement already satisfied: scikit-learn in g:\\python313\\venv\\lib\\site-packages (1.6.1)\n",
      "Collecting numpy<2,>=1.19.5 (from mljar-supervised)\n",
      "  Using cached numpy-1.26.4.tar.gz (15.8 MB)\n",
      "  Installing build dependencies: started\n",
      "  Installing build dependencies: finished with status 'done'\n",
      "  Getting requirements to build wheel: started\n",
      "  Getting requirements to build wheel: finished with status 'done'\n",
      "  Installing backend dependencies: started\n",
      "  Installing backend dependencies: finished with status 'done'\n",
      "  Preparing metadata (pyproject.toml): started\n",
      "  Preparing metadata (pyproject.toml): finished with status 'error'\n"
     ]
    },
    {
     "name": "stderr",
     "output_type": "stream",
     "text": [
      "  error: subprocess-exited-with-error\n",
      "  \n",
      "  Preparing metadata (pyproject.toml) did not run successfully.\n",
      "  exit code: 1\n",
      "  \n",
      "  [13 lines of output]\n",
      "  + G:\\python313\\venv\\Scripts\\python.exe C:\\Users\\MIT\\AppData\\Local\\Temp\\pip-install-3uaplp69\\numpy_dc7c7b17ee094c50817a2bf3099d47aa\\vendored-meson\\meson\\meson.py setup C:\\Users\\MIT\\AppData\\Local\\Temp\\pip-install-3uaplp69\\numpy_dc7c7b17ee094c50817a2bf3099d47aa C:\\Users\\MIT\\AppData\\Local\\Temp\\pip-install-3uaplp69\\numpy_dc7c7b17ee094c50817a2bf3099d47aa\\.mesonpy-6o6ml_yh -Dbuildtype=release -Db_ndebug=if-release -Db_vscrt=md --native-file=C:\\Users\\MIT\\AppData\\Local\\Temp\\pip-install-3uaplp69\\numpy_dc7c7b17ee094c50817a2bf3099d47aa\\.mesonpy-6o6ml_yh\\meson-python-native-file.ini\n",
      "  The Meson build system\n",
      "  Version: 1.2.99\n",
      "  Source dir: C:\\Users\\MIT\\AppData\\Local\\Temp\\pip-install-3uaplp69\\numpy_dc7c7b17ee094c50817a2bf3099d47aa\n",
      "  Build dir: C:\\Users\\MIT\\AppData\\Local\\Temp\\pip-install-3uaplp69\\numpy_dc7c7b17ee094c50817a2bf3099d47aa\\.mesonpy-6o6ml_yh\n",
      "  Build type: native build\n",
      "  Project name: NumPy\n",
      "  Project version: 1.26.4\n",
      "  Activating VS 17.12.4\n",
      "  \n",
      "  ..\\meson.build:1:0: ERROR: Compiler cl cannot compile programs.\n",
      "  \n",
      "  A full log can be found at C:\\Users\\MIT\\AppData\\Local\\Temp\\pip-install-3uaplp69\\numpy_dc7c7b17ee094c50817a2bf3099d47aa\\.mesonpy-6o6ml_yh\\meson-logs\\meson-log.txt\n",
      "  [end of output]\n",
      "  \n",
      "  note: This error originates from a subprocess, and is likely not a problem with pip.\n",
      "\n",
      "[notice] A new release of pip is available: 24.3.1 -> 25.0.1\n",
      "[notice] To update, run: python.exe -m pip install --upgrade pip\n",
      "error: metadata-generation-failed\n",
      "\n",
      "Encountered error while generating package metadata.\n",
      "\n",
      "See above for output.\n",
      "\n",
      "note: This is an issue with the package mentioned above, not pip.\n",
      "hint: See above for details.\n"
     ]
    }
   ],
   "source": [
    "!pip install mljar-supervised h2o pycaret pandas seaborn scikit-learn"
   ]
  },
  {
   "cell_type": "code",
   "execution_count": 6,
   "id": "a8fd9c68-af12-485a-8004-6613799798df",
   "metadata": {},
   "outputs": [
    {
     "name": "stdout",
     "output_type": "stream",
     "text": [
      "     survived  pclass  sex   age  sibsp  parch     fare  embarked   class  \\\n",
      "0           0       3    1  22.0      1      0   7.2500         2   Third   \n",
      "1           1       1    0  38.0      1      0  71.2833         0   First   \n",
      "2           1       3    0  26.0      0      0   7.9250         2   Third   \n",
      "3           1       1    0  35.0      1      0  53.1000         2   First   \n",
      "4           0       3    1  35.0      0      0   8.0500         2   Third   \n",
      "..        ...     ...  ...   ...    ...    ...      ...       ...     ...   \n",
      "886         0       2    1  27.0      0      0  13.0000         2  Second   \n",
      "887         1       1    0  19.0      0      0  30.0000         2   First   \n",
      "888         0       3    0  28.0      1      2  23.4500         2   Third   \n",
      "889         1       1    1  26.0      0      0  30.0000         0   First   \n",
      "890         0       3    1  32.0      0      0   7.7500         1   Third   \n",
      "\n",
      "     who  adult_male  alone  \n",
      "0      1        True  False  \n",
      "1      2       False  False  \n",
      "2      2       False   True  \n",
      "3      2       False  False  \n",
      "4      1        True   True  \n",
      "..   ...         ...    ...  \n",
      "886    1        True   True  \n",
      "887    2       False   True  \n",
      "888    2       False  False  \n",
      "889    1        True   True  \n",
      "890    1        True   True  \n",
      "\n",
      "[891 rows x 12 columns]\n"
     ]
    }
   ],
   "source": [
    "import pandas as pd\n",
    "import seaborn as sns\n",
    "import time\n",
    "from sklearn.model_selection import train_test_split\n",
    "from sklearn.preprocessing import LabelEncoder\n",
    "from sklearn.metrics import accuracy_score, roc_auc_score, f1_score\n",
    "\n",
    "# Load dataset\n",
    "df = sns.load_dataset('titanic').drop(columns=['deck', 'embark_town', 'alive'])\n",
    "\n",
    "# Handle missing values\n",
    "df.fillna(df.median(numeric_only=True), inplace=True)\n",
    "\n",
    "# Convert categorical variables using LabelEncoder\n",
    "label_encoders = {}\n",
    "for col in df.select_dtypes(include=['object']).columns:\n",
    "    le = LabelEncoder()\n",
    "    df[col] = le.fit_transform(df[col].astype(str))\n",
    "    label_encoders[col] = le\n",
    "\n",
    "# Split into features (X) and target (y)\n",
    "X = df.drop(columns=['survived'])\n",
    "y = df['survived']\n",
    "\n",
    "# Train-test split\n",
    "X_train, X_test, y_train, y_test = train_test_split(X, y, test_size=0.2, random_state=42)\n",
    "\n",
    "print(df)\n"
   ]
  },
  {
   "cell_type": "code",
   "execution_count": 7,
   "id": "6c7b0877-87fa-45d5-b687-03ea1a9fa7a9",
   "metadata": {},
   "outputs": [
    {
     "ename": "ModuleNotFoundError",
     "evalue": "No module named 'supervised'",
     "output_type": "error",
     "traceback": [
      "\u001b[1;31m---------------------------------------------------------------------------\u001b[0m",
      "\u001b[1;31mModuleNotFoundError\u001b[0m                       Traceback (most recent call last)",
      "Cell \u001b[1;32mIn[7], line 1\u001b[0m\n\u001b[1;32m----> 1\u001b[0m \u001b[38;5;28;01mfrom\u001b[39;00m \u001b[38;5;21;01msupervised\u001b[39;00m\u001b[38;5;21;01m.\u001b[39;00m\u001b[38;5;21;01mautoml\u001b[39;00m \u001b[38;5;28;01mimport\u001b[39;00m AutoML\n\u001b[0;32m      3\u001b[0m \u001b[38;5;66;03m# Measure execution time\u001b[39;00m\n\u001b[0;32m      4\u001b[0m start_time \u001b[38;5;241m=\u001b[39m time\u001b[38;5;241m.\u001b[39mtime()\n",
      "\u001b[1;31mModuleNotFoundError\u001b[0m: No module named 'supervised'"
     ]
    }
   ],
   "source": [
    "from supervised.automl import AutoML\n",
    "\n",
    "# Measure execution time\n",
    "start_time = time.time()\n",
    "\n",
    "# Train MLJAR AutoML model\n",
    "automl_mljar = AutoML(mode=\"Explain\", total_time_limit=600)\n",
    "automl_mljar.fit(X_train, y_train)\n",
    "\n",
    "# Predict on test set\n",
    "y_pred_mljar = automl_mljar.predict(X_test)\n",
    "\n",
    "# Calculate performance metrics\n",
    "accuracy_mljar = accuracy_score(y_test, y_pred_mljar)\n",
    "auc_mljar = roc_auc_score(y_test, y_pred_mljar)\n",
    "f1_mljar = f1_score(y_test, y_pred_mljar)\n",
    "\n",
    "# Execution time\n",
    "time_mljar = time.time() - start_time\n",
    "\n",
    "# Print results\n",
    "print(f\"MLJAR AutoML - Accuracy: {accuracy_mljar:.4f}, AUC: {auc_mljar:.4f}, F1-Score: {f1_mljar:.4f}, Time: {time_mljar:.2f} sec\")\n"
   ]
  },
  {
   "cell_type": "code",
   "execution_count": null,
   "id": "a5ce02b4-129c-4efc-8d5a-eddfc6a14761",
   "metadata": {},
   "outputs": [],
   "source": []
  }
 ],
 "metadata": {
  "kernelspec": {
   "display_name": "Python 3 (ipykernel)",
   "language": "python",
   "name": "python3"
  },
  "language_info": {
   "codemirror_mode": {
    "name": "ipython",
    "version": 3
   },
   "file_extension": ".py",
   "mimetype": "text/x-python",
   "name": "python",
   "nbconvert_exporter": "python",
   "pygments_lexer": "ipython3",
   "version": "3.13.2"
  }
 },
 "nbformat": 4,
 "nbformat_minor": 5
}
